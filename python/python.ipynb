{
 "cells": [
  {
   "cell_type": "markdown",
   "metadata": {},
   "source": [
    "## Tutorial práctico de Python\n",
    "Python es un lenguaje de programación ampliamente utilizado en data science, desarrollo web y computación general.\n",
    "<br/>\n",
    "<br/>\n",
    "<img src=\"https://zgab33vy595fw5zq-zippykid.netdna-ssl.com/wp-content/uploads/2017/09/projections-1-1400x1200.png\" alt=\"terminal\" style=\"width:700px;\"/>\n",
    "<br/>\n",
    "<br/>\n",
    "Entre sus principales features se encuentran:\n",
    "\n",
    "* Es un lenguaje **multipropósito**.\n",
    "* Es un lenguaje de ** alto nivel**.\n",
    "* Es un lenguaje **no tipado**.\n",
    "* Es un lenguaje de programación **orientado a objetos**."
   ]
  },
  {
   "cell_type": "markdown",
   "metadata": {},
   "source": [
    "## Consola interactiva\n",
    "Python tiene dos grandes versiones no compatibles: Python 2 y Python 3. A menos que se especifique lo contrario siempre vamos a trabajar con Python3. \n",
    "\n",
    "Sus máquinas virtuales traen instalado Python 3.5.2. Abran la terminal e inicien la consola interactiva de Python 3 con el siguiente comando:\n",
    "\n",
    "```console\n",
    "usuariomlandpp@ubuntuvm:~$ python3\n",
    "```\n",
    "\n",
    "Noten que al iniciar la consola interactiva de Python cambia el prompt:\n",
    "\n",
    "```console\n",
    ">>> print('Hola mundo!')\n",
    "```"
   ]
  },
  {
   "cell_type": "markdown",
   "metadata": {},
   "source": [
    "## Tipos básicos de datos\n",
    "Los tipos básicos de datos son **string** ,**integer** ,**float**  y **boolean**. Cree una variable para cada uno de estos tipos usando el operador asignación ```=``` :\n",
    "\n",
    "```console\n",
    ">>> nombre = 'James'\n",
    ">>> edad = 26\n",
    ">>> porcentaje_pases = 89.5\n",
    ">>> crack = True\n",
    ">>> print(type(nombre),type(edad),type(porcentaje_pases),type(crack))\n",
    "```\n",
    "\n",
    "Python soporta un conjunto muy rico de opraciones sobre sus tipos básicos de datos (particularmente útiles para trabajar con strings). En este link pueden encontrar algunos de los más comunes (http://sixthresearcher.com/wp-content/uploads/2016/12/Python3_reference_cheat_sheet.pdf). Es importante que experimente con estos operadores. "
   ]
  },
  {
   "cell_type": "markdown",
   "metadata": {},
   "source": [
    "## Estructuras de datos\n",
    "Existen dos estructuras de datos fundamentales en Python ** listas y diccionarios **.\n",
    " \n",
    "Una **lista** es una secuencia de valores:\n",
    "\n",
    "```console \n",
    ">>> lista_colombia = ['James','Mina','Sanchez','Quintero'] \n",
    "```\n",
    "\n",
    "Una **lista** es una correspondencia entre llaves y valores:\n",
    "\n",
    "```console\n",
    ">>> dict_colombia = {'James':1,'Mina':2,'Sanchez':0,'Quintero':1}\n",
    "```\n",
    "\n",
    "Un ejemplo más estructurado:\n",
    "\n",
    "```console\n",
    ">>> james = {'nombre' : 'James David Rodriguez Rubio',\n",
    "             'edad' : 26,\n",
    "             'crack' : True,\n",
    "             'porcentaje_pases' : 89.5 \n",
    "            }\n",
    "\n",
    ">>> sanchez = {'nombre' : 'Carlos Sanchez',\n",
    "               'edad' : 30,\n",
    "               'crack' : True,\n",
    "               'porcentaje_pases' : 85.1 \n",
    "              }\n",
    " \n",
    ">>> mina = {\n",
    "            'nombre' : 'Yerry Mina',\n",
    "            'edad' : 23,\n",
    "            'crack' : True,\n",
    "            'porcentaje_pases' : 92.1 \n",
    "           }\n",
    "\n",
    ">>> quintero = {'nombre' : 'quintero',\n",
    "                'edad' : 25,\n",
    "                'crack' : True,\n",
    "                'porcentaje_pases' : 80.5 \n",
    "               }\n",
    "              \n",
    ">>> seleccion = [james,sanches,mina,quintero]\n",
    "\n",
    ">>> print(seleccion[0]['nombre'])\n",
    "'James David Rodriguez Rubio'\n",
    "```\n",
    "\n",
    "Es importante que se familiarice con estas estructuras de datos (https://data36.com/python-data-structures-data-science-basics/)."
   ]
  },
  {
   "cell_type": "markdown",
   "metadata": {},
   "source": [
    "## Built-in funciones y métodos\n",
    "Una de las features más importantes de Python es el stock de funciones predefinidas que vienen con la distribución estandar del lenguaje. Las más relevantes para nuestros propósitos son:\n",
    "\n",
    "* print()\n",
    "* abs()\n",
    "* max()\n",
    "* min()\n",
    "* sum()\n",
    "* sorted()\n",
    "* len()\n",
    "* type()\n",
    "* str.lower()\n",
    "* str.upper()\n",
    "* str.strip()\n",
    "* str.join()\n",
    "* str.replace()\n",
    "* str.split()\n",
    "* list.append()\n",
    "* list.remove()\n",
    "* list.count()\n",
    "* list.clear()\n",
    "* dict.keys()\n",
    "* dict.values()\n",
    "* dict.clear()\n",
    "\n",
    "Es importante que se familiarice con estas funciones y métodos (https://data36.com/python-data-structures-data-science-basics/).\n",
    "\n"
   ]
  },
  {
   "cell_type": "markdown",
   "metadata": {},
   "source": [
    "## Control de flujo\n",
    "La sintaxis de las instrucciones condicionales es de la siguiente forma:\n",
    "<br/>\n",
    "<br/>\n",
    "<img src=\"https://data36.com/wp-content/uploads/2018/01/5-Python-if-statement-syntax-1024x384.png\" alt=\"terminal\" style=\"width:700px;\"/>\n",
    "<br/>\n",
    "<br/>"
   ]
  }
 ],
 "metadata": {
  "anaconda-cloud": {},
  "kernelspec": {
   "display_name": "mlandpp",
   "language": "python",
   "name": "mlandpp"
  },
  "language_info": {
   "codemirror_mode": {
    "name": "ipython",
    "version": 3
   },
   "file_extension": ".py",
   "mimetype": "text/x-python",
   "name": "python",
   "nbconvert_exporter": "python",
   "pygments_lexer": "ipython3",
   "version": "3.6.1"
  }
 },
 "nbformat": 4,
 "nbformat_minor": 0
}

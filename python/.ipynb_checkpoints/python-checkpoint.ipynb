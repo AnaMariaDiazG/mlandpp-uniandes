{
 "cells": [
  {
   "cell_type": "markdown",
   "metadata": {},
   "source": [
    "## Tutorial práctico de Python\n",
    "Python es un lenguaje de programación ampliamente utilizado en data science, desarrollo web y computación general.\n",
    "<br/>\n",
    "<br/>\n",
    "<img src=\"https://zgab33vy595fw5zq-zippykid.netdna-ssl.com/wp-content/uploads/2017/09/projections-1-1400x1200.png\" alt=\"terminal\" style=\"width:700px;\"/>\n",
    "<br/>\n",
    "<br/>\n",
    "Entre sus principales features se encuentran:\n",
    "\n",
    "* Es un lenguaje **multipropósito**.\n",
    "* Es un lenguaje de ** alto nivel**.\n",
    "* Es un lenguaje **no tipado**.\n",
    "* Es un lenguaje de programación **orientado a objetos**."
   ]
  },
  {
   "cell_type": "markdown",
   "metadata": {},
   "source": [
    "## Consola interactiva\n",
    "Python tiene dos grandes versiones no compatibles: Python 2 y Python 3. A menos que se especifique lo contrario siempre vamos a trabajar con Python3. \n",
    "\n",
    "Sus máquinas virtuales traen instalado Python 3.5.2. Abran la terminal e inicien la consola interactiva de Python 3 con el siguiente comando:\n",
    "\n",
    "```console\n",
    "usuariomlandpp@ubuntuvm:~$ python3\n",
    "```\n",
    "\n",
    "Noten que al iniciar la consola interactiva de Python cambia el prompt:\n",
    "\n",
    "```console\n",
    ">>> print('Hola mundo!')\n",
    "```"
   ]
  },
  {
   "cell_type": "markdown",
   "metadata": {},
   "source": [
    "## Tipos básicos de datos\n",
    "Los tipos básicos de datos son **string** ,**integer** ,**float**  y **boolean**. Cree una variable para cada uno de estos tipos usando el operador asignación ```=``` :\n",
    "\n",
    "```console\n",
    ">>> nombre = 'James'\n",
    ">>> edad = 26\n",
    ">>> porcentaje_pases = 89.5\n",
    ">>> crack = True\n",
    ">>> print(type(nombre),type(edad),type(porcentaje_pases),type(crack))\n",
    "```\n",
    "\n",
    "Python soporta un conjunto muy rico de opraciones sobre sus tipos básicos de datos (particularmente útiles para trabajar con strings). En este link pueden encontrar algunos de los más comunes (http://sixthresearcher.com/wp-content/uploads/2016/12/Python3_reference_cheat_sheet.pdf). Asegúrese de experimentar con estos operadores. \n",
    "\n",
    "\n",
    "\n",
    "\n"
   ]
  },
  {
   "cell_type": "markdown",
   "metadata": {},
   "source": []
  }
 ],
 "metadata": {
  "anaconda-cloud": {},
  "kernelspec": {
   "display_name": "mlandpp",
   "language": "python",
   "name": "mlandpp"
  },
  "language_info": {
   "codemirror_mode": {
    "name": "ipython",
    "version": 3
   },
   "file_extension": ".py",
   "mimetype": "text/x-python",
   "name": "python",
   "nbconvert_exporter": "python",
   "pygments_lexer": "ipython3",
   "version": "3.6.1"
  }
 },
 "nbformat": 4,
 "nbformat_minor": 0
}
